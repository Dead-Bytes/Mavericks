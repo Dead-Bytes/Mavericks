{
  "cells": [
    {
      "cell_type": "markdown",
      "metadata": {
        "id": "JUgv8aNYQrYy"
      },
      "source": [
        "## the imports"
      ]
    },
    {
      "cell_type": "code",
      "execution_count": 13,
      "metadata": {
        "id": "uWPPG1a5GxeT"
      },
      "outputs": [],
      "source": [
        "import matplotlib.pyplot as plt\n",
        "from scipy import stats\n",
        "import csv\n",
        "from math import sqrt"
      ]
    },
    {
      "cell_type": "markdown",
      "metadata": {
        "id": "nJcVmkPgQ02w"
      },
      "source": [
        "# defining root mean square function\n",
        "so that we can get a value that probably represents all the four features of data:\n",
        "bedrooms, bathrooms, sqft_area, year_built"
      ]
    },
    {
      "cell_type": "code",
      "execution_count": 14,
      "metadata": {
        "id": "SXnMLHJwGx75"
      },
      "outputs": [],
      "source": [
        "def rms(a, b, c, d):\n",
        "    u=((a**2)+(c**2)/2)**0.5\n",
        "    return u"
      ]
    },
    {
      "cell_type": "markdown",
      "metadata": {
        "id": "7va9DZ1tRavl"
      },
      "source": [
        "defining lists to extract and store the values of all similar data"
      ]
    },
    {
      "cell_type": "code",
      "execution_count": 15,
      "metadata": {
        "id": "7zjdnzwjGy-5"
      },
      "outputs": [],
      "source": [
        "X1=[]#stores number of  bedrooms\n",
        "X2=[]#stores number of bathrooms\n",
        "X3=[]#stores sqft_area\n",
        "X4=[]#stores year_built\n",
        "X5=[]#stores price of the houses"
      ]
    },
    {
      "cell_type": "markdown",
      "metadata": {
        "id": "GWnGQo2YSriS"
      },
      "source": [
        "reading & extracting data form the csv file and then filling the previously defined arrays"
      ]
    },
    {
      "cell_type": "code",
      "execution_count": 16,
      "metadata": {
        "id": "_taN_cANG0OB"
      },
      "outputs": [],
      "source": [
        "file = \"/content/data.csv\"\n",
        "with open(file, 'r') as csvfile:\n",
        "    reader = csv.reader(csvfile, delimiter = ',')\n",
        "    for row in reader:\n",
        "        X1.append(row[1])\n",
        "        X2.append(row[2])\n",
        "        X3.append(row[3])\n",
        "        X4.append(row[4])\n",
        "        X5.append(row[0])\n",
        "X=[]\n",
        "Y=[]\n"
      ]
    },
    {
      "cell_type": "markdown",
      "metadata": {
        "id": "Uo1qYr9bTLNO"
      },
      "source": [
        "storing the rms values in an list without the headings.\n"
      ]
    },
    {
      "cell_type": "code",
      "execution_count": 17,
      "metadata": {
        "id": "b6i-YM-iG1dp"
      },
      "outputs": [],
      "source": [
        "x=1\n",
        "while x<=199:\n",
        "    X.append(rms(float(X1[x]), float(X2[x]), float(X3[x]), float(X4[x])))\n",
        "    Y.append(float(X5[x]))\n",
        "    x=x+1"
      ]
    },
    {
      "cell_type": "markdown",
      "metadata": {
        "id": "HI7PyzBtUFX7"
      },
      "source": [
        "making the magic happen\n",
        "\n",
        "(tu tu tu tu\n",
        "#linear regression!!)"
      ]
    },
    {
      "cell_type": "code",
      "execution_count": 18,
      "metadata": {
        "colab": {
          "base_uri": "https://localhost:8080/",
          "height": 462
        },
        "id": "AOLDvzXqG2h4",
        "outputId": "c3786a36-43e7-4ae2-9d82-ee1c211327c8"
      },
      "outputs": [
        {
          "output_type": "execute_result",
          "data": {
            "text/plain": [
              "[<matplotlib.lines.Line2D at 0x77fd67fc3670>]"
            ]
          },
          "metadata": {},
          "execution_count": 18
        },
        {
          "output_type": "display_data",
          "data": {
            "text/plain": [
              "<Figure size 640x480 with 1 Axes>"
            ],
            "image/png": "[encoded data removed]"
          },
          "metadata": {}
        }
      ],
      "source": [
        "slope, intercept, r, p, se = stats.linregress(X,Y)\n",
        "def predict(x):\n",
        "    return slope*x + intercept\n",
        "plt.plot(X,Y,'ro')\n",
        "regression_line = [slope*x + intercept for x in X]\n",
        "plt.plot(X, regression_line, 'b')"
      ]
    },
    {
      "cell_type": "markdown",
      "metadata": {
        "id": "9LRecYHuUZTM"
      },
      "source": [
        "taking the inputs for the respective data features and predicting the most probable price of the house based on the inputs.."
      ]
    },
    {
      "cell_type": "code",
      "execution_count": 19,
      "metadata": {
        "colab": {
          "base_uri": "https://localhost:8080/"
        },
        "id": "WyNwBNuiG3oI",
        "outputId": "27479d55-a261-41c8-b4bc-6e8788f1c186"
      },
      "outputs": [
        {
          "output_type": "stream",
          "name": "stdout",
          "text": [
            "accuracy of the model is:  0.4701670817625147\n",
            "enter number of bedreooms: 3\n",
            "enter number of bathrooms: 2\n",
            "enter area: 7000\n",
            "enter year it was built: 2000\n",
            "the predicted value for the above house:  1409391.6794628804\n"
          ]
        }
      ],
      "source": [
        "print(\"accuracy of the model is: \", r**2)\n",
        "a=float(input(\"enter number of bedreooms: \"))\n",
        "b=float(input(\"enter number of bathrooms: \"))\n",
        "c=float(input(\"enter area: \"))\n",
        "d=float(input(\"enter year it was built: \"))\n",
        "u2=rms(a,b,c,d)\n",
        "print(\"the predicted value for the above house: \", predict(u2))"
      ]
    },
    {
      "cell_type": "code",
      "source": [],
      "metadata": {
        "id": "skhu9O5t8PGA"
      },
      "execution_count": 19,
      "outputs": []
    }
  ],
  "metadata": {
    "colab": {
      "provenance": []
    },
    "kernelspec": {
      "display_name": "Python 3",
      "name": "python3"
    },
    "language_info": {
      "name": "python"
    }
  },
  "nbformat": 4,
  "nbformat_minor": 0
}