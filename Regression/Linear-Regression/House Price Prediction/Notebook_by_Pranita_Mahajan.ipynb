{
  "nbformat": 4,
  "nbformat_minor": 0,
  "metadata": {
    "colab": {
      "provenance": []
    },
    "kernelspec": {
      "name": "python3",
      "display_name": "Python 3"
    },
    "language_info": {
      "name": "python"
    }
  },
  "cells": [
    {
      "cell_type": "code",
      "execution_count": null,
      "metadata": {
        "colab": {
          "base_uri": "https://localhost:8080/"
        },
        "id": "MsXUrdGpENXw",
        "outputId": "da579e21-95bf-4cab-9caf-3f22edef5a41"
      },
      "outputs": [
        {
          "output_type": "stream",
          "name": "stdout",
          "text": [
            "['price', 'bedrooms', 'bathrooms', 'sqft_area', 'year_built']\n",
            "['313000', '3', '1.5', '1340', '1955']\n",
            "['2384000', '5', '2.5', '3650', '1921']\n",
            "['342000', '3', '2', '1930', '1966']\n",
            "['420000', '3', '2.25', '2000', '1963']\n",
            "['550000', '4', '2.5', '1940', '1976']\n",
            "['490000', '2', '1', '880', '1938']\n",
            "['335000', '2', '2', '1350', '1976']\n",
            "['482000', '4', '2.5', '2710', '1989']\n",
            "['452500', '3', '2.5', '2430', '1985']\n",
            "['640000', '4', '2', '1520', '1945']\n",
            "['463000', '3', '1.75', '1710', '1948']\n",
            "['1400000', '4', '2.5', '2920', '1909']\n",
            "['588500', '3', '1.75', '2330', '1980']\n",
            "['365000', '3', '1', '1090', '1955']\n",
            "['1200000', '5', '2.75', '2910', '1939']\n",
            "['242500', '3', '1.5', '1200', '1965']\n",
            "['419000', '3', '1.5', '1570', '1956']\n",
            "['367500', '4', '3', '3110', '1997']\n",
            "['257950', '3', '1.75', '1370', '1987']\n",
            "['275000', '3', '1.5', '1180', '1983']\n",
            "['750000', '3', '1.75', '2240', '1923']\n",
            "['435000', '4', '1', '1450', '1954']\n",
            "['626000', '3', '2.25', '1750', '2005']\n",
            "['612500', '4', '2.5', '2730', '1991']\n",
            "['495000', '4', '1.75', '1600', '1959']\n",
            "['285000', '3', '2.5', '2090', '1987']\n",
            "['615000', '3', '1.75', '2360', '1948']\n",
            "['698000', '4', '2.25', '2200', '1920']\n",
            "['675000', '5', '2.5', '2820', '1979']\n",
            "['790000', '3', '2.5', '2600', '1951']\n",
            "['382500', '4', '1.75', '1560', '1967']\n",
            "['499950', '4', '2.5', '2860', '2004']\n",
            "['650000', '4', '2', '1820', '1945']\n",
            "['625000', '4', '2.5', '2820', '2014']\n",
            "['400000', '4', '2.5', '3630', '1979']\n",
            "['604000', '3', '2.5', '3240', '1995']\n",
            "['440000', '2', '1', '800', '1944']\n",
            "['287200', '3', '3', '1850', '1992']\n",
            "['403000', '3', '2', '1960', '1957']\n",
            "['750000', '3', '2.5', '2390', '1955']\n",
            "['335000', '3', '2.25', '1580', '1978']\n",
            "['260000', '4', '2', '1480', '1974']\n",
            "['308500', '2', '1', '850', '1950']\n",
            "['439950', '3', '2.5', '1770', '1990']\n",
            "['235000', '2', '1', '1210', '1949']\n",
            "['315000', '3', '1', '1160', '1968']\n",
            "['437500', '3', '2.25', '1970', '1977']\n",
            "['407500', '3', '2.5', '1930', '1996']\n",
            "['445700', '3', '2.5', '1270', '2001']\n",
            "['838000', '4', '2.5', '3310', '2001']\n",
            "['630000', '4', '2.75', '2710', '2000']\n",
            "['550000', '3', '1.75', '2910', '1979']\n",
            "['805000', '3', '2', '2710', '1929']\n",
            "['284000', '3', '1.75', '1800', '1968']\n",
            "['470000', '5', '2.5', '2210', '1976']\n",
            "['430000', '4', '1.5', '1920', '1954']\n",
            "['491500', '4', '1.75', '2190', '1968']\n",
            "['785000', '5', '3.25', '3660', '2006']\n",
            "['385000', '3', '3.25', '1320', '2008']\n",
            "['295000', '2', '2.5', '1630', '2009']\n",
            "['555000', '4', '2.5', '3310', '2012']\n",
            "['459990', '3', '2.5', '2680', '2013']\n",
            "['625000', '4', '3.25', '2730', '2007']\n",
            "['300000', '3', '2.5', '2540', '2006']\n",
            "['625000', '4', '2.75', '2920', '2012']\n",
            "['553000', '2', '1', '900', '1944']\n",
            "['379880', '3', '2.5', '1650', '1986']\n",
            "['310000', '3', '1', '1010', '1973']\n",
            "['775000', '2', '2.5', '2680', '2004']\n",
            "['365000', '3', '2.5', '2200', '1988']\n",
            "['331950', '4', '2.5', '2530', '1990']\n",
            "['783500', '3', '2.5', '2850', '1980']\n",
            "['628000', '4', '2', '2280', '1900']\n",
            "['560000', '3', '2.5', '1900', '1987']\n",
            "['900000', '3', '1', '1330', '1928']\n",
            "['531000', '2', '3', '1270', '2000']\n",
            "['831000', '4', '3', '2170', '1982']\n",
            "['780000', '4', '2.5', '2730', '1996']\n",
            "['755000', '4', '2.5', '2120', '1960']\n",
            "['705380', '3', '2.5', '2490', '2003']\n",
            "['627000', '4', '2.25', '1990', '1973']\n",
            "['865000', '4', '3', '3690', '1998']\n",
            "['580000', '2', '1', '2540', '1942']\n",
            "['410000', '3', '2.25', '1800', '1978']\n",
            "['485000', '4', '3', '2340', '1979']\n",
            "['400000', '2', '1.75', '2110', '1948']\n",
            "['549000', '2', '1', '1140', '1908']\n",
            "['620000', '3', '1.75', '1480', '2005']\n",
            "['405000', '2', '3', '1410', '2006']\n",
            "['232000', '2', '1', '1200', '1958']\n",
            "['800866', '5', '2.5', '3180', '1990']\n",
            "['650000', '3', '1.5', '2160', '1949']\n",
            "['823000', '6', '1.75', '2920', '1908']\n",
            "['770000', '3', '2', '2350', '1939']\n",
            "['524000', '3', '1.75', '1560', '1944']\n",
            "['541125', '5', '2.75', '2740', '1960']\n",
            "['670000', '3', '2.5', '1680', '1909']\n",
            "['384900', '5', '2.5', '3090', '1968']\n",
            "['406100', '3', '2.25', '1410', '2005']\n",
            "['1395000', '5', '3.5', '4010', '1971']\n",
            "['736500', '4', '2.5', '3180', '2000']\n",
            "['570000', '3', '2.25', '2010', '1975']\n",
            "['787000', '3', '1.75', '1330', '1961']\n",
            "['328000', '4', '2.5', '2370', '1998']\n",
            "['435000', '5', '2', '1840', '1942']\n",
            "['499000', '4', '2.5', '2910', '2006']\n",
            "['501000', '4', '1', '2070', '1963']\n",
            "['1090000', '4', '2.5', '4340', '1992']\n",
            "['400000', '2', '1', '840', '1955']\n",
            "['220000', '4', '1.5', '1240', '1971']\n",
            "['657100', '4', '1', '1390', '1924']\n",
            "['309950', '4', '2.75', '2310', '2006']\n",
            "['300000', '3', '2', '1050', '1986']\n",
            "['525888', '5', '1.75', '2550', '1960']\n",
            "['740000', '4', '1.75', '2010', '1902']\n",
            "['340000', '5', '1', '1120', '1962']\n",
            "['398750', '3', '2.5', '2230', '1954']\n",
            "['206000', '2', '1', '810', '1944']\n",
            "['1030000', '5', '2.75', '3190', '1976']\n",
            "['600000', '3', '1.75', '1670', '1976']\n",
            "['379950', '4', '1.75', '1970', '1960']\n",
            "['287000', '3', '1', '1450', '1953']\n",
            "['2280000', '7', '8', '13540', '1999']\n",
            "['309950', '3', '2.5', '1880', '1994']\n",
            "['600000', '3', '1.75', '1880', '1945']\n",
            "['418000', '3', '2', '1410', '1930']\n",
            "['449250', '4', '2', '1480', '1928']\n",
            "['329950', '2', '1', '1140', '1949']\n",
            "['245000', '3', '1.75', '1920', '1984']\n",
            "['549000', '4', '2.5', '2910', '2008']\n",
            "['800000', '3', '2.5', '3240', '1994']\n",
            "['249950', '3', '2', '1550', '1958']\n",
            "['210000', '5', '2', '2050', '1956']\n",
            "['1425000', '2', '2.5', '2220', '2000']\n",
            "['585000', '2', '1', '1770', '1949']\n",
            "['615000', '4', '1.75', '2300', '1977']\n",
            "['618500', '3', '2', '1800', '1942']\n",
            "['487585', '4', '1.75', '2010', '1977']\n",
            "['509900', '3', '2.5', '1790', '2010']\n",
            "['631625', '4', '2.5', '2440', '2014']\n",
            "['555000', '3', '2.5', '1940', '2009']\n",
            "['340000', '2', '1.5', '1160', '2001']\n",
            "['830000', '4', '2.5', '3400', '2007']\n",
            "['890000', '4', '4.25', '4420', '2006']\n",
            "['366750', '3', '3', '1571', '2008']\n",
            "['415000', '3', '2.25', '1620', '2010']\n",
            "['416286', '3', '2.5', '1408', '2005']\n",
            "['478000', '3', '2.5', '3040', '2007']\n",
            "['890000', '5', '3.5', '4490', '2006']\n",
            "['419190', '2', '2.5', '1590', '2014']\n",
            "['712198', '4', '2.5', '2450', '2013']\n",
            "['397000', '4', '2', '1440', '1971']\n",
            "['450000', '2', '2', '1100', '1912']\n",
            "['353000', '3', '1', '1350', '1947']\n",
            "['609000', '4', '2.5', '2150', '1985']\n",
            "['234000', '3', '1.75', '1490', '1975']\n",
            "['561000', '3', '2', '2000', '1916']\n",
            "['469000', '2', '1', '1030', '1924']\n",
            "['329350', '2', '1', '720', '1942']\n",
            "['488000', '5', '2', '2020', '1938']\n",
            "['279900', '3', '1.75', '1580', '1962']\n",
            "['606000', '4', '2.5', '2110', '1987']\n",
            "['312000', '4', '2', '1300', '1950']\n",
            "['650000', '3', '1.5', '1630', '1940']\n",
            "['1135000', '4', '2.75', '3370', '1970']\n",
            "['325000', '4', '2.5', '1890', '1980']\n",
            "['425000', '4', '2', '1520', '1967']\n",
            "['219000', '2', '1', '900', '1952']\n",
            "['250000', '3', '1', '1050', '1954']\n",
            "['390000', '3', '1.75', '1260', '1966']\n",
            "['475000', '6', '3', '3470', '1924']\n",
            "['736000', '4', '2.5', '2290', '1988']\n",
            "['407000', '4', '2.25', '2810', '1958']\n",
            "['272000', '3', '2.5', '1650', '1998']\n",
            "['362000', '3', '2.25', '1640', '1963']\n",
            "['535000', '3', '2.5', '1850', '1991']\n",
            "['284000', '4', '2.5', '2000', '2003']\n",
            "['367500', '3', '1.5', '1410', '1961']\n",
            "['379900', '4', '1.75', '1500', '1955']\n",
            "['520000', '3', '2.5', '2460', '1980']\n",
            "['175000', '3', '1', '1010', '1954']\n",
            "['460000', '2', '2.25', '1230', '2004']\n",
            "['345000', '4', '2.5', '2331', '2007']\n",
            "['455000', '5', '2.5', '2240', '1978']\n",
            "['610000', '4', '3', '2450', '1967']\n",
            "['563000', '4', '3', '3100', '1996']\n",
            "['612500', '4', '2', '2060', '1949']\n",
            "['218000', '3', '1.75', '1850', '1979']\n",
            "['404000', '4', '1.75', '1840', '1958']\n",
            "['860000', '4', '2', '3740', '2000']\n",
            "['136500', '3', '1.5', '1420', '1962']\n",
            "['313950', '3', '1', '1510', '1940']\n",
            "['575000', '3', '1.75', '2130', '1954']\n",
            "['1225000', '4', '2.25', '3490', '1928']\n",
            "['280000', '3', '1.75', '1630', '1971']\n",
            "['515000', '3', '2.5', '1790', '1989']\n",
            "['513000', '4', '2.5', '2000', '1996']\n",
            "['599000', '4', '2.25', '2260', '1977']\n",
            "['685000', '4', '2.5', '3030', '1999']\n"
          ]
        }
      ],
      "source": [
        "import csv\n",
        "file = \"/content/data.csv\"\n",
        "with open(file, 'r') as f:\n",
        "  reader = csv.reader(f, delimiter=\",\")\n",
        "  #next(reader)\n",
        "  for row in reader:\n",
        "     print(row)"
      ]
    },
    {
      "cell_type": "code",
      "source": [
        "import matplotlib.pyplot as plt\n",
        "import scipy as stats\n",
        "X=[]\n",
        "Y=[]\n",
        "X1=[]\n",
        "Y1=[]\n",
        "X2=[]\n",
        "Y2=[]\n",
        "X3=[]\n",
        "with open(file, 'r') as f:\n",
        "  #year built on x axis and price on y axis\n",
        "  #bedrooms on x aixs and area on y axis\n",
        "  reader = csv.reader(f, delimiter=\",\")\n",
        "  next(reader)\n",
        "  for row in reader:\n",
        "    X.append(float(row[4]))\n",
        "    Y.append(float(row[0]))\n",
        "    X1.append(float(row[1]))\n",
        "    Y1.append(float(row[0]))\n",
        "    X2.append(float(row[2]))\n",
        "    Y2.append(float(row[0]))\n",
        "    X3.append(float(row[3]))\n",
        "\n",
        "plt.plot(X,Y,'go')\n",
        "plt.show()\n",
        "plt.plot(X1,Y1,'ro')\n",
        "plt.show()\n",
        "plt.plot(X3,Y2,'bo')\n",
        "plt.show()\n"
      ],
      "metadata": {
        "colab": {
          "base_uri": "https://localhost:8080/",
          "height": 1000
        },
        "id": "nnXBg8cSLfRC",
        "outputId": "17d2469f-d218-4fc6-a838-551c10f9a6be"
      },
      "execution_count": null,
      "outputs": [
        {
          "output_type": "display_data",
          "data": {
            "text/plain": [
              "<Figure size 640x480 with 1 Axes>"
            ],
            "image/png": "[encoded data removed]"
          },
          "metadata": {}
        },
        {
          "output_type": "display_data",
          "data": {
            "text/plain": [
              "<Figure size 640x480 with 1 Axes>"
            ],
            "image/png": "[encoded data removed]"
          },
          "metadata": {}
        },
        {
          "output_type": "display_data",
          "data": {
            "text/plain": [
              "<Figure size 640x480 with 1 Axes>"
            ],
            "image/png": "[encoded data removed]"
          },
          "metadata": {}
        }
      ]
    },
    {
      "cell_type": "code",
      "source": [
        "#bathroom vs price\n",
        "from scipy import  stats\n",
        "slope, intercept, r, p, standard_deviation =stats.linregress(X2, Y2)\n",
        "print(slope)\n",
        "print(intercept)"
      ],
      "metadata": {
        "colab": {
          "base_uri": "https://localhost:8080/"
        },
        "id": "M7dR5ZwvNC7U",
        "outputId": "2abf8c15-cc46-42ac-9277-34c8874fc535"
      },
      "execution_count": null,
      "outputs": [
        {
          "output_type": "stream",
          "name": "stdout",
          "text": [
            "194736.94105264344\n",
            "124448.06913776894\n"
          ]
        }
      ]
    },
    {
      "cell_type": "code",
      "source": [
        "print(r**2)"
      ],
      "metadata": {
        "colab": {
          "base_uri": "https://localhost:8080/"
        },
        "id": "1FTQovI9Uh89",
        "outputId": "5aa79682-7cd2-4505-c53c-6c1f69f86d25"
      },
      "execution_count": null,
      "outputs": [
        {
          "output_type": "stream",
          "name": "stdout",
          "text": [
            "0.25259636694695825\n"
          ]
        }
      ]
    },
    {
      "cell_type": "code",
      "source": [
        "#bedroom vs price\n",
        "from scipy import  stats\n",
        "slope, intercept, r, p, standard_deviation =stats.linregress(X1, Y1)\n",
        "print(slope)\n",
        "print(intercept)"
      ],
      "metadata": {
        "colab": {
          "base_uri": "https://localhost:8080/"
        },
        "id": "T00Exov9U6lV",
        "outputId": "a2d8ab89-fef9-4a50-b27e-7edc5b0810af"
      },
      "execution_count": null,
      "outputs": [
        {
          "output_type": "stream",
          "name": "stdout",
          "text": [
            "131978.8184548273\n",
            "85973.8752607946\n"
          ]
        }
      ]
    },
    {
      "cell_type": "code",
      "source": [
        "print(r**2)"
      ],
      "metadata": {
        "colab": {
          "base_uri": "https://localhost:8080/"
        },
        "id": "s71enBpRVNrX",
        "outputId": "499b4b8f-3978-4353-9089-fc7315249a02"
      },
      "execution_count": null,
      "outputs": [
        {
          "output_type": "stream",
          "name": "stdout",
          "text": [
            "0.16526322082150327\n"
          ]
        }
      ]
    },
    {
      "cell_type": "code",
      "source": [
        "#year vs price\n",
        "from scipy import  stats\n",
        "slope, intercept, r, p, standard_deviation =stats.linregress(X, Y)\n",
        "print(slope)\n",
        "print(intercept)"
      ],
      "metadata": {
        "colab": {
          "base_uri": "https://localhost:8080/"
        },
        "id": "3aCHIbNaVVO2",
        "outputId": "2ca4c003-fc60-46c0-b6b4-06d9852c5427"
      },
      "execution_count": null,
      "outputs": [
        {
          "output_type": "stream",
          "name": "stdout",
          "text": [
            "-687.5963051831482\n",
            "1895193.6353315508\n"
          ]
        }
      ]
    },
    {
      "cell_type": "code",
      "source": [
        "print(r**2)"
      ],
      "metadata": {
        "colab": {
          "base_uri": "https://localhost:8080/"
        },
        "id": "_rTinpcpVaS9",
        "outputId": "ff8be2fb-7ab8-4cef-d74d-ea4c7775dd14"
      },
      "execution_count": null,
      "outputs": [
        {
          "output_type": "stream",
          "name": "stdout",
          "text": [
            "0.004253364252527601\n"
          ]
        }
      ]
    },
    {
      "cell_type": "code",
      "source": [
        "#area vs price\n",
        "from scipy import  stats\n",
        "slope, intercept, r, p, standard_deviation =stats.linregress(X3, Y)\n",
        "print(slope)\n",
        "print(intercept)"
      ],
      "metadata": {
        "colab": {
          "base_uri": "https://localhost:8080/"
        },
        "id": "JGhPkWPtVcFf",
        "outputId": "a7ff0a8d-2915-4363-eb3c-71f691507020"
      },
      "execution_count": null,
      "outputs": [
        {
          "output_type": "stream",
          "name": "stdout",
          "text": [
            "178.43811239919967\n",
            "160325.5067148871\n"
          ]
        }
      ]
    },
    {
      "cell_type": "code",
      "source": [
        "print(r**2)"
      ],
      "metadata": {
        "colab": {
          "base_uri": "https://localhost:8080/"
        },
        "id": "XP20HshEWC-o",
        "outputId": "a898a641-e32a-4440-8006-b4faf994b4a3"
      },
      "execution_count": null,
      "outputs": [
        {
          "output_type": "stream",
          "name": "stdout",
          "text": [
            "0.4701671758125115\n"
          ]
        }
      ]
    },
    {
      "cell_type": "code",
      "source": [
        "x0 = 1000.00\n",
        "x1 = 9000.00\n",
        "y0  = slope * x0 + intercept\n",
        "y1  = slope * x1 + intercept\n",
        "Y_predicted = [y0, y1]\n",
        "X_predicted = [x0, x1]\n",
        "print(y0)\n",
        "print(y1)"
      ],
      "metadata": {
        "colab": {
          "base_uri": "https://localhost:8080/"
        },
        "id": "1u6MZ961WFUA",
        "outputId": "40f25b1b-b508-452f-b8b6-bf5515f5ba09"
      },
      "execution_count": null,
      "outputs": [
        {
          "output_type": "stream",
          "name": "stdout",
          "text": [
            "338763.61911408673\n",
            "1766268.518307684\n"
          ]
        }
      ]
    },
    {
      "cell_type": "code",
      "source": [
        "plt.plot(X_predicted, Y_predicted, 'g')\n",
        "plt.plot(X3, Y, 'ro')\n",
        "plt.axis((1000, 3000, 0, 3000000))\n",
        "plt.show()"
      ],
      "metadata": {
        "colab": {
          "base_uri": "https://localhost:8080/",
          "height": 445
        },
        "id": "EiGBu90iX6UT",
        "outputId": "e6c259bc-6d5c-4646-e694-042e4cba617c"
      },
      "execution_count": null,
      "outputs": [
        {
          "output_type": "display_data",
          "data": {
            "text/plain": [
              "<Figure size 640x480 with 1 Axes>"
            ],
            "image/png": "[encoded data removed]"
          },
          "metadata": {}
        }
      ]
    }
  ]
}